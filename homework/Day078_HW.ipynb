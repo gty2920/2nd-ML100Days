{
 "cells": [
  {
   "cell_type": "markdown",
   "metadata": {},
   "source": [
    "## Work\n",
    "1. 請嘗試將 preproc_x 替換成以每筆資料的 min/max 進行標準化至 -1 ~ 1 間，再進行訓練\n",
    "2. 請嘗試將 mlp 疊更深 (e.g 5~10 層)，進行訓練後觀察 learning curve 的走勢\n",
    "3. (optional) 請改用 GPU 進行訓練 (如果你有 GPU 的話)，比較使用 CPU 與 GPU 的訓練速度"
   ]
  },
  {
   "cell_type": "code",
   "execution_count": 1,
   "metadata": {},
   "outputs": [
    {
     "name": "stderr",
     "output_type": "stream",
     "text": [
      "'nvidia-smi' 不是內部或外部命令、可執行的程式或批次檔。\n"
     ]
    }
   ],
   "source": [
    "## \n",
    "\"\"\"\n",
    "Your code here (optional)\n",
    "確認硬體資源\n",
    "\"\"\"\n",
    "!nvidia-smi"
   ]
  },
  {
   "cell_type": "code",
   "execution_count": 2,
   "metadata": {},
   "outputs": [
    {
     "name": "stderr",
     "output_type": "stream",
     "text": [
      "Using TensorFlow backend.\n"
     ]
    }
   ],
   "source": [
    "import os\n",
    "import keras\n",
    "\n",
    "# 請嘗試設定 GPU：os.environ\n",
    "os.environ['CUDA-VISIBLE-DEVICES']=''"
   ]
  },
  {
   "cell_type": "code",
   "execution_count": 3,
   "metadata": {},
   "outputs": [],
   "source": [
    "train,test=keras.datasets.cifar10.load_data()"
   ]
  },
  {
   "cell_type": "code",
   "execution_count": 9,
   "metadata": {},
   "outputs": [],
   "source": [
    "## 資料前處理\n",
    "\"\"\"\n",
    "Your code here\n",
    "\"\"\"\n",
    "def preproc_x(x,flatten=True):\n",
    "    a=x.min()\n",
    "    b=x.max()\n",
    "    x=(x-a)/(b-a)\n",
    "    if flatten:\n",
    "        x=x.reshape((len(x),-1))\n",
    "    return x\n",
    "def preproc_y(y,num_classes=10):\n",
    "    if y.shape[-1]==1:\n",
    "        y=keras.utils.to_categorical(y,num_classes)\n",
    "    return y\n",
    "                                    "
   ]
  },
  {
   "cell_type": "code",
   "execution_count": 10,
   "metadata": {},
   "outputs": [],
   "source": [
    "x_train, y_train = train\n",
    "x_test, y_test = test\n",
    "\n",
    "# Preproc the inputs\n",
    "x_train = preproc_x(x_train)\n",
    "x_test = preproc_x(x_test)\n",
    "\n",
    "# Preprc the outputs\n",
    "y_train = preproc_y(y_train)\n",
    "y_test = preproc_y(y_test)"
   ]
  },
  {
   "cell_type": "code",
   "execution_count": 12,
   "metadata": {},
   "outputs": [
    {
     "name": "stdout",
     "output_type": "stream",
     "text": [
      "_________________________________________________________________\n",
      "Layer (type)                 Output Shape              Param #   \n",
      "=================================================================\n",
      "input_3 (InputLayer)         (None, 3072)              0         \n",
      "_________________________________________________________________\n",
      "hidden_layer1 (Dense)        (None, 512)               1573376   \n",
      "_________________________________________________________________\n",
      "hidden_layer2 (Dense)        (None, 256)               131328    \n",
      "_________________________________________________________________\n",
      "hidden_layer3 (Dense)        (None, 128)               32896     \n",
      "_________________________________________________________________\n",
      "hidden_layer4 (Dense)        (None, 64)                8256      \n",
      "_________________________________________________________________\n",
      "hidden_layer5 (Dense)        (None, 32)                2080      \n",
      "_________________________________________________________________\n",
      "output (Dense)               (None, 10)                330       \n",
      "=================================================================\n",
      "Total params: 1,748,266\n",
      "Trainable params: 1,748,266\n",
      "Non-trainable params: 0\n",
      "_________________________________________________________________\n"
     ]
    }
   ],
   "source": [
    "\"\"\"Code Here\n",
    "建立你的神經網路\n",
    "\"\"\"\n",
    "def build_mlp(input_shape,output_units=10,num_neurons=[512,256,128,64,32]):\n",
    "    input_layer=keras.layers.Input(input_shape)\n",
    "    for i,n_units in enumerate(num_neurons):\n",
    "        if i ==0:\n",
    "            x=keras.layers.Dense(units=n_units,activation='relu',name='hidden_layer'+str(i+1))(input_layer)\n",
    "        else:\n",
    "            x=keras.layers.Dense(units=n_units,activation='relu',name='hidden_layer'+str(i+1))(x)\n",
    "    out=keras.layers.Dense(units=output_units,activation='softmax',name='output')(x)\n",
    "    \n",
    "    model=keras.models.Model(inputs=[input_layer],outputs=[out])\n",
    "    return model\n",
    "model=build_mlp(input_shape=x_train.shape[1:])\n",
    "\n",
    "model.summary()"
   ]
  },
  {
   "cell_type": "code",
   "execution_count": 13,
   "metadata": {},
   "outputs": [],
   "source": [
    "## 超參數設定\n",
    "LEARNING_RATE = 0.001\n",
    "EPOCHS = 100\n",
    "BATCH_SIZE = 256"
   ]
  },
  {
   "cell_type": "code",
   "execution_count": 14,
   "metadata": {},
   "outputs": [],
   "source": [
    "optimizer = keras.optimizers.Adam(lr=LEARNING_RATE)\n",
    "model.compile(loss=\"categorical_crossentropy\", metrics=[\"accuracy\"], optimizer=optimizer)"
   ]
  },
  {
   "cell_type": "code",
   "execution_count": 15,
   "metadata": {},
   "outputs": [
    {
     "name": "stdout",
     "output_type": "stream",
     "text": [
      "WARNING:tensorflow:From C:\\Users\\USER\\Anaconda3\\lib\\site-packages\\tensorflow\\python\\ops\\math_ops.py:3066: to_int32 (from tensorflow.python.ops.math_ops) is deprecated and will be removed in a future version.\n",
      "Instructions for updating:\n",
      "Use tf.cast instead.\n",
      "Train on 50000 samples, validate on 10000 samples\n",
      "Epoch 1/100\n",
      "50000/50000 [==============================] - 89s 2ms/step - loss: 1.9949 - acc: 0.2666 - val_loss: 1.8277 - val_acc: 0.3423\n",
      "Epoch 2/100\n",
      "50000/50000 [==============================] - 68s 1ms/step - loss: 1.7487 - acc: 0.3693 - val_loss: 1.6783 - val_acc: 0.3951\n",
      "Epoch 3/100\n",
      "50000/50000 [==============================] - 69s 1ms/step - loss: 1.6416 - acc: 0.4122 - val_loss: 1.6111 - val_acc: 0.4258\n",
      "Epoch 4/100\n",
      "50000/50000 [==============================] - 69s 1ms/step - loss: 1.5889 - acc: 0.4309 - val_loss: 1.5708 - val_acc: 0.4371\n",
      "Epoch 5/100\n",
      "50000/50000 [==============================] - 69s 1ms/step - loss: 1.5314 - acc: 0.4521 - val_loss: 1.5237 - val_acc: 0.4527\n",
      "Epoch 6/100\n",
      "50000/50000 [==============================] - 93s 2ms/step - loss: 1.4958 - acc: 0.4635 - val_loss: 1.5495 - val_acc: 0.4463\n",
      "Epoch 7/100\n",
      "50000/50000 [==============================] - 73s 1ms/step - loss: 1.4645 - acc: 0.4786 - val_loss: 1.4780 - val_acc: 0.4713\n",
      "Epoch 8/100\n",
      "50000/50000 [==============================] - 70s 1ms/step - loss: 1.4235 - acc: 0.4921 - val_loss: 1.4988 - val_acc: 0.4688\n",
      "Epoch 9/100\n",
      "50000/50000 [==============================] - 131s 3ms/step - loss: 1.4011 - acc: 0.4999 - val_loss: 1.4711 - val_acc: 0.4805\n",
      "Epoch 10/100\n",
      "50000/50000 [==============================] - 107s 2ms/step - loss: 1.3780 - acc: 0.5089 - val_loss: 1.4576 - val_acc: 0.4828\n",
      "Epoch 11/100\n",
      "50000/50000 [==============================] - 82s 2ms/step - loss: 1.3576 - acc: 0.5164 - val_loss: 1.3946 - val_acc: 0.5012\n",
      "Epoch 12/100\n",
      "50000/50000 [==============================] - 65s 1ms/step - loss: 1.3213 - acc: 0.5289 - val_loss: 1.4110 - val_acc: 0.4995\n",
      "Epoch 13/100\n",
      "50000/50000 [==============================] - 63s 1ms/step - loss: 1.2964 - acc: 0.5397 - val_loss: 1.4314 - val_acc: 0.4901\n",
      "Epoch 14/100\n",
      "14336/50000 [=======>......................] - ETA: 40s - loss: 1.2814 - acc: 0.5419Epoch 16/100\n",
      "50000/50000 [==============================] - 78s 2ms/step - loss: 1.2384 - acc: 0.5578 - val_loss: 1.3600 - val_acc: 0.5187\n",
      "Epoch 17/100\n",
      "50000/50000 [==============================] - 68s 1ms/step - loss: 1.2076 - acc: 0.5689 - val_loss: 1.4163 - val_acc: 0.5033\n",
      "Epoch 18/100\n",
      "50000/50000 [==============================] - 68s 1ms/step - loss: 1.1924 - acc: 0.5752 - val_loss: 1.3842 - val_acc: 0.5174\n",
      "Epoch 19/100\n",
      "50000/50000 [==============================] - 68s 1ms/step - loss: 1.1656 - acc: 0.5839 - val_loss: 1.3704 - val_acc: 0.5213\n",
      "Epoch 20/100\n",
      "50000/50000 [==============================] - 74s 1ms/step - loss: 1.1462 - acc: 0.5922 - val_loss: 1.3704 - val_acc: 0.5185\n",
      "Epoch 21/100\n",
      "50000/50000 [==============================] - 66s 1ms/step - loss: 1.1206 - acc: 0.5992 - val_loss: 1.4273 - val_acc: 0.5036\n",
      "Epoch 22/100\n",
      "50000/50000 [==============================] - 68s 1ms/step - loss: 1.1095 - acc: 0.6049 - val_loss: 1.3801 - val_acc: 0.5157\n",
      "Epoch 23/100\n",
      "50000/50000 [==============================] - 68s 1ms/step - loss: 1.0950 - acc: 0.6090 - val_loss: 1.3591 - val_acc: 0.5224\n",
      "Epoch 24/100\n",
      "50000/50000 [==============================] - 72s 1ms/step - loss: 1.0660 - acc: 0.6180 - val_loss: 1.3633 - val_acc: 0.5271\n",
      "Epoch 25/100\n",
      "50000/50000 [==============================] - 71s 1ms/step - loss: 1.0549 - acc: 0.6253 - val_loss: 1.3640 - val_acc: 0.5257\n",
      "Epoch 26/100\n",
      "50000/50000 [==============================] - 71s 1ms/step - loss: 1.0394 - acc: 0.6275 - val_loss: 1.4146 - val_acc: 0.5267\n",
      "Epoch 27/100\n",
      "50000/50000 [==============================] - 66s 1ms/step - loss: 1.0180 - acc: 0.6340 - val_loss: 1.3724 - val_acc: 0.5261\n",
      "Epoch 28/100\n",
      "50000/50000 [==============================] - 70s 1ms/step - loss: 0.9940 - acc: 0.6452 - val_loss: 1.4178 - val_acc: 0.5211\n",
      "Epoch 29/100\n",
      "50000/50000 [==============================] - 82s 2ms/step - loss: 0.9822 - acc: 0.6484 - val_loss: 1.4199 - val_acc: 0.5228\n",
      "Epoch 30/100\n",
      "50000/50000 [==============================] - 67s 1ms/step - loss: 0.9645 - acc: 0.6535 - val_loss: 1.4470 - val_acc: 0.5200\n",
      "Epoch 31/100\n",
      "50000/50000 [==============================] - 66s 1ms/step - loss: 0.9633 - acc: 0.6563 - val_loss: 1.4141 - val_acc: 0.5267\n",
      "Epoch 32/100\n",
      "50000/50000 [==============================] - 66s 1ms/step - loss: 0.9310 - acc: 0.6647 - val_loss: 1.4250 - val_acc: 0.5266\n",
      "Epoch 33/100\n",
      "50000/50000 [==============================] - 71s 1ms/step - loss: 0.9178 - acc: 0.6709 - val_loss: 1.4474 - val_acc: 0.5317\n",
      "Epoch 34/100\n",
      "50000/50000 [==============================] - 71s 1ms/step - loss: 0.8974 - acc: 0.6779 - val_loss: 1.4716 - val_acc: 0.5279\n",
      "Epoch 35/100\n",
      "50000/50000 [==============================] - 66s 1ms/step - loss: 0.8814 - acc: 0.6855 - val_loss: 1.4840 - val_acc: 0.5161\n",
      "Epoch 36/100\n",
      "50000/50000 [==============================] - 73s 1ms/step - loss: 0.8680 - acc: 0.6904 - val_loss: 1.5097 - val_acc: 0.5320\n",
      "Epoch 37/100\n",
      "50000/50000 [==============================] - 68s 1ms/step - loss: 0.8432 - acc: 0.6965 - val_loss: 1.5085 - val_acc: 0.5280\n",
      "Epoch 38/100\n",
      "50000/50000 [==============================] - 73s 1ms/step - loss: 0.8268 - acc: 0.7030 - val_loss: 1.5280 - val_acc: 0.5283\n",
      "Epoch 39/100\n",
      "50000/50000 [==============================] - 71s 1ms/step - loss: 0.8124 - acc: 0.7083 - val_loss: 1.5660 - val_acc: 0.5229\n",
      "Epoch 40/100\n",
      "50000/50000 [==============================] - 66s 1ms/step - loss: 0.8047 - acc: 0.7108 - val_loss: 1.5940 - val_acc: 0.5197\n",
      "Epoch 41/100\n",
      "50000/50000 [==============================] - 67s 1ms/step - loss: 0.7939 - acc: 0.7133 - val_loss: 1.5826 - val_acc: 0.5175\n",
      "Epoch 42/100\n",
      "50000/50000 [==============================] - 67s 1ms/step - loss: 0.7854 - acc: 0.7179 - val_loss: 1.6179 - val_acc: 0.5189\n",
      "Epoch 43/100\n",
      "50000/50000 [==============================] - 74s 1ms/step - loss: 0.7546 - acc: 0.7290 - val_loss: 1.6562 - val_acc: 0.5199\n",
      "Epoch 44/100\n",
      "50000/50000 [==============================] - 71s 1ms/step - loss: 0.7406 - acc: 0.7329 - val_loss: 1.6437 - val_acc: 0.5246\n",
      "Epoch 45/100\n",
      "50000/50000 [==============================] - 66s 1ms/step - loss: 0.7304 - acc: 0.7388 - val_loss: 1.6781 - val_acc: 0.5156\n",
      "Epoch 46/100\n",
      "50000/50000 [==============================] - 66s 1ms/step - loss: 0.7095 - acc: 0.7454 - val_loss: 1.6809 - val_acc: 0.5264\n",
      "Epoch 47/100\n",
      "50000/50000 [==============================] - 67s 1ms/step - loss: 0.7043 - acc: 0.7456 - val_loss: 1.7229 - val_acc: 0.5154\n",
      "Epoch 48/100\n",
      "50000/50000 [==============================] - 67s 1ms/step - loss: 0.6901 - acc: 0.7505 - val_loss: 1.7754 - val_acc: 0.5092\n",
      "Epoch 49/100\n",
      "50000/50000 [==============================] - 80s 2ms/step - loss: 0.6727 - acc: 0.7577 - val_loss: 1.7397 - val_acc: 0.5166\n",
      "Epoch 50/100\n",
      "50000/50000 [==============================] - 73s 1ms/step - loss: 0.6625 - acc: 0.7643 - val_loss: 1.7868 - val_acc: 0.5147\n",
      "Epoch 51/100\n",
      "50000/50000 [==============================] - 67s 1ms/step - loss: 0.6399 - acc: 0.7705 - val_loss: 1.8031 - val_acc: 0.5216\n",
      "Epoch 52/100\n",
      "50000/50000 [==============================] - 66s 1ms/step - loss: 0.6358 - acc: 0.7713 - val_loss: 1.8793 - val_acc: 0.5133\n",
      "Epoch 53/100\n",
      "50000/50000 [==============================] - 68s 1ms/step - loss: 0.6268 - acc: 0.7742 - val_loss: 1.8661 - val_acc: 0.5112\n",
      "Epoch 54/100\n",
      "50000/50000 [==============================] - 74s 1ms/step - loss: 0.6154 - acc: 0.7797 - val_loss: 1.9326 - val_acc: 0.5042\n",
      "Epoch 55/100\n",
      "50000/50000 [==============================] - 64s 1ms/step - loss: 0.5987 - acc: 0.7841 - val_loss: 1.8829 - val_acc: 0.5194\n",
      "Epoch 56/100\n",
      "50000/50000 [==============================] - 68s 1ms/step - loss: 0.5933 - acc: 0.7882 - val_loss: 1.9523 - val_acc: 0.5103\n",
      "Epoch 57/100\n",
      "50000/50000 [==============================] - 66s 1ms/step - loss: 0.5804 - acc: 0.7905 - val_loss: 1.9996 - val_acc: 0.5147\n",
      "Epoch 58/100\n",
      "50000/50000 [==============================] - 69s 1ms/step - loss: 0.5707 - acc: 0.7941 - val_loss: 1.9910 - val_acc: 0.5212\n",
      "Epoch 59/100\n"
     ]
    },
    {
     "name": "stdout",
     "output_type": "stream",
     "text": [
      "50000/50000 [==============================] - 77s 2ms/step - loss: 0.5541 - acc: 0.8010 - val_loss: 2.0326 - val_acc: 0.5188\n",
      "Epoch 60/100\n",
      "50000/50000 [==============================] - 66s 1ms/step - loss: 0.5590 - acc: 0.7987 - val_loss: 2.0535 - val_acc: 0.5094\n",
      "Epoch 61/100\n",
      "50000/50000 [==============================] - 67s 1ms/step - loss: 0.5394 - acc: 0.8054 - val_loss: 2.0691 - val_acc: 0.5076\n",
      "Epoch 62/100\n",
      "50000/50000 [==============================] - 66s 1ms/step - loss: 0.5374 - acc: 0.8069 - val_loss: 2.0203 - val_acc: 0.5161\n",
      "Epoch 63/100\n",
      "50000/50000 [==============================] - 85s 2ms/step - loss: 0.5242 - acc: 0.8134 - val_loss: 2.0997 - val_acc: 0.5133\n",
      "Epoch 64/100\n",
      "50000/50000 [==============================] - 70s 1ms/step - loss: 0.5164 - acc: 0.8127 - val_loss: 2.0966 - val_acc: 0.5091\n",
      "Epoch 65/100\n",
      "50000/50000 [==============================] - 67s 1ms/step - loss: 0.5224 - acc: 0.8106 - val_loss: 2.1362 - val_acc: 0.5084\n",
      "Epoch 66/100\n",
      "50000/50000 [==============================] - 67s 1ms/step - loss: 0.4914 - acc: 0.8221 - val_loss: 2.2259 - val_acc: 0.5141\n",
      "Epoch 67/100\n",
      "50000/50000 [==============================] - 66s 1ms/step - loss: 0.4863 - acc: 0.8249 - val_loss: 2.2014 - val_acc: 0.5084\n",
      "Epoch 68/100\n",
      "50000/50000 [==============================] - 76s 2ms/step - loss: 0.4722 - acc: 0.8311 - val_loss: 2.2309 - val_acc: 0.5095\n",
      "Epoch 69/100\n",
      "50000/50000 [==============================] - 79s 2ms/step - loss: 0.4764 - acc: 0.8289 - val_loss: 2.2437 - val_acc: 0.5150\n",
      "Epoch 70/100\n",
      "50000/50000 [==============================] - 66s 1ms/step - loss: 0.4715 - acc: 0.8298 - val_loss: 2.2480 - val_acc: 0.5066\n",
      "Epoch 71/100\n",
      "50000/50000 [==============================] - 67s 1ms/step - loss: 0.4771 - acc: 0.8276 - val_loss: 2.2074 - val_acc: 0.5109\n",
      "Epoch 72/100\n",
      "50000/50000 [==============================] - 70s 1ms/step - loss: 0.4483 - acc: 0.8381 - val_loss: 2.2889 - val_acc: 0.5199\n",
      "Epoch 73/100\n",
      "50000/50000 [==============================] - 71s 1ms/step - loss: 0.4213 - acc: 0.8486 - val_loss: 2.4296 - val_acc: 0.5024\n",
      "Epoch 74/100\n",
      "50000/50000 [==============================] - 75s 1ms/step - loss: 0.4611 - acc: 0.8335 - val_loss: 2.3574 - val_acc: 0.5068\n",
      "Epoch 75/100\n",
      "50000/50000 [==============================] - 67s 1ms/step - loss: 0.4245 - acc: 0.8468 - val_loss: 2.4995 - val_acc: 0.5171\n",
      "Epoch 76/100\n",
      "50000/50000 [==============================] - 72s 1ms/step - loss: 0.4305 - acc: 0.8451 - val_loss: 2.4208 - val_acc: 0.5054\n",
      "Epoch 77/100\n",
      "50000/50000 [==============================] - 74s 1ms/step - loss: 0.4097 - acc: 0.8518 - val_loss: 2.4682 - val_acc: 0.5113\n",
      "Epoch 78/100\n",
      "50000/50000 [==============================] - 71s 1ms/step - loss: 0.4302 - acc: 0.8437 - val_loss: 2.4747 - val_acc: 0.5112\n",
      "Epoch 79/100\n",
      "50000/50000 [==============================] - 88s 2ms/step - loss: 0.4173 - acc: 0.8491 - val_loss: 2.4525 - val_acc: 0.5087\n",
      "Epoch 80/100\n",
      "50000/50000 [==============================] - 86s 2ms/step - loss: 0.3929 - acc: 0.8606 - val_loss: 2.4744 - val_acc: 0.5108\n",
      "Epoch 81/100\n",
      "50000/50000 [==============================] - 74s 1ms/step - loss: 0.3863 - acc: 0.8620 - val_loss: 2.6618 - val_acc: 0.5108\n",
      "Epoch 82/100\n",
      "50000/50000 [==============================] - 72s 1ms/step - loss: 0.4138 - acc: 0.8498 - val_loss: 2.5591 - val_acc: 0.5077\n",
      "Epoch 83/100\n",
      "50000/50000 [==============================] - 85s 2ms/step - loss: 0.3842 - acc: 0.8621 - val_loss: 2.5828 - val_acc: 0.5117\n",
      "Epoch 84/100\n",
      "50000/50000 [==============================] - 78s 2ms/step - loss: 0.3973 - acc: 0.8578 - val_loss: 2.6495 - val_acc: 0.5077\n",
      "Epoch 85/100\n",
      "50000/50000 [==============================] - 74s 1ms/step - loss: 0.3782 - acc: 0.8643 - val_loss: 2.5938 - val_acc: 0.5047\n",
      "Epoch 86/100\n",
      "50000/50000 [==============================] - 71s 1ms/step - loss: 0.3799 - acc: 0.8647 - val_loss: 2.5867 - val_acc: 0.5108\n",
      "Epoch 87/100\n",
      "50000/50000 [==============================] - 72s 1ms/step - loss: 0.3685 - acc: 0.8688 - val_loss: 2.6499 - val_acc: 0.5112\n",
      "Epoch 88/100\n",
      "50000/50000 [==============================] - 86s 2ms/step - loss: 0.3620 - acc: 0.8687 - val_loss: 2.7495 - val_acc: 0.5036\n",
      "Epoch 89/100\n",
      "50000/50000 [==============================] - 72s 1ms/step - loss: 0.3580 - acc: 0.8701 - val_loss: 2.7049 - val_acc: 0.5086\n",
      "Epoch 90/100\n",
      "50000/50000 [==============================] - 65s 1ms/step - loss: 0.3512 - acc: 0.8738 - val_loss: 2.7642 - val_acc: 0.5111\n",
      "Epoch 91/100\n",
      "50000/50000 [==============================] - 65s 1ms/step - loss: 0.3520 - acc: 0.8748 - val_loss: 2.8353 - val_acc: 0.5017\n",
      "Epoch 92/100\n",
      "50000/50000 [==============================] - 67s 1ms/step - loss: 0.3555 - acc: 0.8718 - val_loss: 2.8589 - val_acc: 0.5042\n",
      "Epoch 93/100\n",
      "50000/50000 [==============================] - 73s 1ms/step - loss: 0.3445 - acc: 0.8763 - val_loss: 2.7178 - val_acc: 0.5110\n",
      "Epoch 94/100\n",
      "50000/50000 [==============================] - 65s 1ms/step - loss: 0.3268 - acc: 0.8823 - val_loss: 2.8454 - val_acc: 0.5111\n",
      "Epoch 95/100\n",
      "50000/50000 [==============================] - 65s 1ms/step - loss: 0.3540 - acc: 0.8712 - val_loss: 2.8624 - val_acc: 0.5105\n",
      "Epoch 96/100\n",
      "50000/50000 [==============================] - 66s 1ms/step - loss: 0.3178 - acc: 0.8858 - val_loss: 2.8352 - val_acc: 0.5104\n",
      "Epoch 97/100\n",
      "50000/50000 [==============================] - 65s 1ms/step - loss: 0.3509 - acc: 0.8736 - val_loss: 2.8405 - val_acc: 0.5013\n",
      "Epoch 98/100\n",
      "50000/50000 [==============================] - 73s 1ms/step - loss: 0.3375 - acc: 0.8793 - val_loss: 2.9574 - val_acc: 0.5044\n",
      "Epoch 99/100\n",
      "50000/50000 [==============================] - 67s 1ms/step - loss: 0.3116 - acc: 0.8883 - val_loss: 2.8911 - val_acc: 0.5102\n",
      "Epoch 100/100\n",
      "50000/50000 [==============================] - 65s 1ms/step - loss: 0.2976 - acc: 0.8924 - val_loss: 3.0001 - val_acc: 0.5051\n"
     ]
    },
    {
     "data": {
      "text/plain": [
       "<keras.callbacks.History at 0x2859c31c0f0>"
      ]
     },
     "execution_count": 15,
     "metadata": {},
     "output_type": "execute_result"
    }
   ],
   "source": [
    "model.fit(x_train, y_train, \n",
    "          epochs=EPOCHS, \n",
    "          batch_size=BATCH_SIZE, \n",
    "          validation_data=(x_test, y_test), \n",
    "          shuffle=True)"
   ]
  },
  {
   "cell_type": "code",
   "execution_count": 17,
   "metadata": {},
   "outputs": [
    {
     "data": {
      "image/png": "[encoded data removed]",
      "text/plain": [
       "<Figure size 432x288 with 1 Axes>"
      ]
     },
     "metadata": {
      "needs_background": "light"
     },
     "output_type": "display_data"
    },
    {
     "data": {
      "image/png": "[encoded data removed]",
      "text/plain": [
       "<Figure size 432x288 with 1 Axes>"
      ]
     },
     "metadata": {
      "needs_background": "light"
     },
     "output_type": "display_data"
    }
   ],
   "source": [
    "import matplotlib.pyplot as plt\n",
    "\n",
    "\n",
    "train_loss = model.history.history[\"loss\"]\n",
    "valid_loss = model.history.history[\"val_loss\"]\n",
    "\n",
    "train_acc = model.history.history[\"acc\"]\n",
    "valid_acc = model.history.history[\"val_acc\"]\n",
    "\n",
    "plt.plot(range(len(train_loss)), train_loss, label=\"train loss\")\n",
    "plt.plot(range(len(valid_loss)), valid_loss, label=\"valid loss\")\n",
    "plt.legend()\n",
    "plt.title(\"Loss\")\n",
    "plt.show()\n",
    "\n",
    "plt.plot(range(len(train_acc)), train_acc, label=\"train accuracy\")\n",
    "plt.plot(range(len(valid_acc)), valid_acc, label=\"valid accuracy\")\n",
    "plt.legend()\n",
    "plt.title(\"Accuracy\")\n",
    "plt.show()"
   ]
  },
  {
   "cell_type": "code",
   "execution_count": null,
   "metadata": {},
   "outputs": [],
   "source": []
  }
 ],
 "metadata": {
  "kernelspec": {
   "display_name": "Python 3",
   "language": "python",
   "name": "python3"
  },
  "language_info": {
   "codemirror_mode": {
    "name": "ipython",
    "version": 3
   },
   "file_extension": ".py",
   "mimetype": "text/x-python",
   "name": "python",
   "nbconvert_exporter": "python",
   "pygments_lexer": "ipython3",
   "version": "3.7.3"
  }
 },
 "nbformat": 4,
 "nbformat_minor": 2
}
