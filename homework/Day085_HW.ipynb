{
 "cells": [
  {
   "cell_type": "markdown",
   "metadata": {},
   "source": [
    "## Work\n",
    "1. 試改變 monitor \"Validation Accuracy\" 並比較結果\n",
    "2. 調整 earlystop 的等待次數至 10, 25 並比較結果"
   ]
  },
  {
   "cell_type": "code",
   "execution_count": 1,
   "metadata": {},
   "outputs": [
    {
     "name": "stderr",
     "output_type": "stream",
     "text": [
      "Using TensorFlow backend.\n"
     ]
    }
   ],
   "source": [
    "import os\n",
    "import keras\n",
    "import matplotlib.pyplot as plt\n",
    "%matplotlib inline\n",
    "\n",
    "\n",
    "# Disable GPU\n",
    "os.environ[\"CUDA_VISIBLE_DEVICES\"] = \"\""
   ]
  },
  {
   "cell_type": "code",
   "execution_count": 2,
   "metadata": {},
   "outputs": [],
   "source": [
    "train, test = keras.datasets.cifar10.load_data()"
   ]
  },
  {
   "cell_type": "code",
   "execution_count": 3,
   "metadata": {},
   "outputs": [],
   "source": [
    "## 資料前處理\n",
    "def preproc_x(x, flatten=True):\n",
    "    x = x / 255.\n",
    "    if flatten:\n",
    "        x = x.reshape((len(x), -1))\n",
    "    return x\n",
    "\n",
    "def preproc_y(y, num_classes=10):\n",
    "    if y.shape[-1] == 1:\n",
    "        y = keras.utils.to_categorical(y, num_classes)\n",
    "    return y    "
   ]
  },
  {
   "cell_type": "code",
   "execution_count": 4,
   "metadata": {},
   "outputs": [],
   "source": [
    "x_train, y_train = train\n",
    "x_test, y_test = test\n",
    "\n",
    "# Preproc the inputs\n",
    "x_train = preproc_x(x_train)\n",
    "x_test = preproc_x(x_test)\n",
    "\n",
    "# Preprc the outputs\n",
    "y_train = preproc_y(y_train)\n",
    "y_test = preproc_y(y_test)"
   ]
  },
  {
   "cell_type": "code",
   "execution_count": 12,
   "metadata": {},
   "outputs": [],
   "source": [
    "from keras.layers import BatchNormalization\n",
    "\n",
    "def build_mlp(input_shape, output_units=10, num_neurons=[512, 256, 128]):\n",
    "        input_layer = keras.layers.Input(input_shape)\n",
    "        \n",
    "        for i, n_units in enumerate(num_neurons):\n",
    "            if i == 0:\n",
    "                x = keras.layers.Dense(units=n_units, \n",
    "                                       activation=\"relu\", \n",
    "                                       name=\"hidden_layer\"+str(i+1))(input_layer)\n",
    "                x = BatchNormalization()(x)\n",
    "            else:\n",
    "                x = keras.layers.Dense(units=n_units, \n",
    "                                       activation=\"relu\", \n",
    "                                       name=\"hidden_layer\"+str(i+1))(x)\n",
    "                x = BatchNormalization()(x)\n",
    "        \n",
    "        out = keras.layers.Dense(units=output_units, activation=\"softmax\", name=\"output\")(x)\n",
    "        \n",
    "        model = keras.models.Model(inputs=[input_layer], outputs=[out])\n",
    "        return model"
   ]
  },
  {
   "cell_type": "code",
   "execution_count": 13,
   "metadata": {},
   "outputs": [],
   "source": [
    "\"\"\"Code Here\n",
    "設定超參數\n",
    "\"\"\"\n",
    "LEARNING_RATE = 1e-3\n",
    "EPOCHS = 50\n",
    "BATCH_SIZE = 1024\n",
    "MOMENTUM = 0.95"
   ]
  },
  {
   "cell_type": "code",
   "execution_count": 14,
   "metadata": {},
   "outputs": [
    {
     "name": "stdout",
     "output_type": "stream",
     "text": [
      "WARNING:tensorflow:From C:\\Users\\USER\\Anaconda3\\lib\\site-packages\\tensorflow\\python\\framework\\op_def_library.py:263: colocate_with (from tensorflow.python.framework.ops) is deprecated and will be removed in a future version.\n",
      "Instructions for updating:\n",
      "Colocations handled automatically by placer.\n",
      "_________________________________________________________________\n",
      "Layer (type)                 Output Shape              Param #   \n",
      "=================================================================\n",
      "input_1 (InputLayer)         (None, 3072)              0         \n",
      "_________________________________________________________________\n",
      "hidden_layer1 (Dense)        (None, 512)               1573376   \n",
      "_________________________________________________________________\n",
      "batch_normalization_1 (Batch (None, 512)               2048      \n",
      "_________________________________________________________________\n",
      "hidden_layer2 (Dense)        (None, 256)               131328    \n",
      "_________________________________________________________________\n",
      "batch_normalization_2 (Batch (None, 256)               1024      \n",
      "_________________________________________________________________\n",
      "hidden_layer3 (Dense)        (None, 128)               32896     \n",
      "_________________________________________________________________\n",
      "batch_normalization_3 (Batch (None, 128)               512       \n",
      "_________________________________________________________________\n",
      "output (Dense)               (None, 10)                1290      \n",
      "=================================================================\n",
      "Total params: 1,742,474\n",
      "Trainable params: 1,740,682\n",
      "Non-trainable params: 1,792\n",
      "_________________________________________________________________\n",
      "WARNING:tensorflow:From C:\\Users\\USER\\Anaconda3\\lib\\site-packages\\tensorflow\\python\\ops\\math_ops.py:3066: to_int32 (from tensorflow.python.ops.math_ops) is deprecated and will be removed in a future version.\n",
      "Instructions for updating:\n",
      "Use tf.cast instead.\n",
      "Train on 50000 samples, validate on 10000 samples\n",
      "Epoch 1/50\n",
      "50000/50000 [==============================] - 47s 941us/step - loss: 2.2116 - acc: 0.2706 - val_loss: 2.1408 - val_acc: 0.3132\n",
      "Epoch 2/50\n"
     ]
    },
    {
     "name": "stderr",
     "output_type": "stream",
     "text": [
      "C:\\Users\\USER\\Anaconda3\\lib\\site-packages\\keras\\callbacks.py:569: RuntimeWarning: Early stopping conditioned on metric `val_Accuracy` which is not available. Available metrics are: val_loss,val_acc,loss,acc\n",
      "  (self.monitor, ','.join(list(logs.keys()))), RuntimeWarning\n"
     ]
    },
    {
     "name": "stdout",
     "output_type": "stream",
     "text": [
      "50000/50000 [==============================] - 32s 640us/step - loss: 1.7501 - acc: 0.3897 - val_loss: 1.8275 - val_acc: 0.3744\n",
      "Epoch 3/50\n",
      "50000/50000 [==============================] - 41s 827us/step - loss: 1.6209 - acc: 0.4329 - val_loss: 1.6998 - val_acc: 0.4041\n",
      "Epoch 4/50\n",
      "50000/50000 [==============================] - 44s 871us/step - loss: 1.5467 - acc: 0.4589 - val_loss: 1.6415 - val_acc: 0.4278\n",
      "Epoch 5/50\n",
      "50000/50000 [==============================] - 32s 637us/step - loss: 1.4925 - acc: 0.4768 - val_loss: 1.6088 - val_acc: 0.4430\n",
      "Epoch 6/50\n",
      "50000/50000 [==============================] - 37s 740us/step - loss: 1.4485 - acc: 0.4927 - val_loss: 1.5660 - val_acc: 0.4540\n",
      "Epoch 7/50\n",
      "50000/50000 [==============================] - 43s 856us/step - loss: 1.4058 - acc: 0.5070 - val_loss: 1.5517 - val_acc: 0.4590\n",
      "Epoch 8/50\n",
      "50000/50000 [==============================] - 45s 890us/step - loss: 1.3712 - acc: 0.5206 - val_loss: 1.5262 - val_acc: 0.4692\n",
      "Epoch 9/50\n",
      "50000/50000 [==============================] - 47s 932us/step - loss: 1.3373 - acc: 0.5321 - val_loss: 1.5121 - val_acc: 0.4753\n",
      "Epoch 10/50\n",
      "50000/50000 [==============================] - 47s 949us/step - loss: 1.3070 - acc: 0.5448 - val_loss: 1.4959 - val_acc: 0.4779\n",
      "Epoch 11/50\n",
      "50000/50000 [==============================] - 43s 865us/step - loss: 1.2781 - acc: 0.5542 - val_loss: 1.4913 - val_acc: 0.4831\n",
      "Epoch 12/50\n",
      "50000/50000 [==============================] - 40s 792us/step - loss: 1.2517 - acc: 0.5641 - val_loss: 1.4747 - val_acc: 0.4853\n",
      "Epoch 13/50\n",
      "50000/50000 [==============================] - 47s 932us/step - loss: 1.2242 - acc: 0.5754 - val_loss: 1.4690 - val_acc: 0.4864\n",
      "Epoch 14/50\n",
      "50000/50000 [==============================] - 47s 931us/step - loss: 1.2014 - acc: 0.5845 - val_loss: 1.4647 - val_acc: 0.4861\n",
      "Epoch 15/50\n",
      "50000/50000 [==============================] - 44s 881us/step - loss: 1.1754 - acc: 0.5927 - val_loss: 1.4673 - val_acc: 0.4874\n",
      "Epoch 16/50\n",
      "50000/50000 [==============================] - 40s 799us/step - loss: 1.1523 - acc: 0.6007 - val_loss: 1.4572 - val_acc: 0.4951\n",
      "Epoch 17/50\n",
      "50000/50000 [==============================] - 46s 920us/step - loss: 1.1275 - acc: 0.6128 - val_loss: 1.4565 - val_acc: 0.4943\n",
      "Epoch 18/50\n",
      "50000/50000 [==============================] - 47s 948us/step - loss: 1.1055 - acc: 0.6196 - val_loss: 1.4599 - val_acc: 0.4921\n",
      "Epoch 19/50\n",
      "50000/50000 [==============================] - 43s 861us/step - loss: 1.0851 - acc: 0.6271 - val_loss: 1.4548 - val_acc: 0.4954\n",
      "Epoch 20/50\n",
      "50000/50000 [==============================] - 41s 816us/step - loss: 1.0632 - acc: 0.6357 - val_loss: 1.4514 - val_acc: 0.4932\n",
      "Epoch 21/50\n",
      "50000/50000 [==============================] - 45s 910us/step - loss: 1.0406 - acc: 0.6439 - val_loss: 1.4514 - val_acc: 0.4986\n",
      "Epoch 22/50\n",
      "50000/50000 [==============================] - 44s 880us/step - loss: 1.0190 - acc: 0.6538 - val_loss: 1.4499 - val_acc: 0.4997\n",
      "Epoch 23/50\n",
      "50000/50000 [==============================] - 33s 667us/step - loss: 0.9965 - acc: 0.6629 - val_loss: 1.4554 - val_acc: 0.4989\n",
      "Epoch 24/50\n",
      "50000/50000 [==============================] - 32s 631us/step - loss: 0.9758 - acc: 0.6685 - val_loss: 1.4640 - val_acc: 0.4957\n",
      "Epoch 25/50\n",
      "50000/50000 [==============================] - 31s 612us/step - loss: 0.9555 - acc: 0.6785 - val_loss: 1.4516 - val_acc: 0.5004\n",
      "Epoch 26/50\n",
      "50000/50000 [==============================] - 40s 796us/step - loss: 0.9336 - acc: 0.6863 - val_loss: 1.4649 - val_acc: 0.4985\n",
      "Epoch 27/50\n",
      "50000/50000 [==============================] - 40s 795us/step - loss: 0.9138 - acc: 0.6945 - val_loss: 1.4653 - val_acc: 0.5025\n",
      "Epoch 28/50\n",
      "50000/50000 [==============================] - 31s 625us/step - loss: 0.8941 - acc: 0.7024 - val_loss: 1.4701 - val_acc: 0.4995\n",
      "Epoch 29/50\n",
      "50000/50000 [==============================] - 34s 689us/step - loss: 0.8739 - acc: 0.7103 - val_loss: 1.4717 - val_acc: 0.4976\n",
      "Epoch 30/50\n",
      "50000/50000 [==============================] - 36s 724us/step - loss: 0.8554 - acc: 0.7183 - val_loss: 1.4820 - val_acc: 0.5056\n",
      "Epoch 31/50\n",
      "50000/50000 [==============================] - 34s 679us/step - loss: 0.8353 - acc: 0.7259 - val_loss: 1.4769 - val_acc: 0.4999\n",
      "Epoch 32/50\n",
      "50000/50000 [==============================] - 31s 627us/step - loss: 0.8151 - acc: 0.7335 - val_loss: 1.4968 - val_acc: 0.4945\n",
      "Epoch 33/50\n",
      "50000/50000 [==============================] - 37s 731us/step - loss: 0.7964 - acc: 0.7413 - val_loss: 1.5016 - val_acc: 0.4991\n",
      "Epoch 34/50\n",
      "50000/50000 [==============================] - 36s 729us/step - loss: 0.7764 - acc: 0.7499 - val_loss: 1.5066 - val_acc: 0.4974\n",
      "Epoch 35/50\n",
      "50000/50000 [==============================] - 31s 617us/step - loss: 0.7579 - acc: 0.7559 - val_loss: 1.5066 - val_acc: 0.5004\n",
      "Epoch 36/50\n",
      "50000/50000 [==============================] - 35s 696us/step - loss: 0.7378 - acc: 0.7644 - val_loss: 1.5263 - val_acc: 0.4976\n",
      "Epoch 37/50\n",
      "50000/50000 [==============================] - 37s 743us/step - loss: 0.7202 - acc: 0.7728 - val_loss: 1.5146 - val_acc: 0.4985\n",
      "Epoch 38/50\n",
      "50000/50000 [==============================] - 34s 685us/step - loss: 0.7017 - acc: 0.7796 - val_loss: 1.5403 - val_acc: 0.5009\n",
      "Epoch 39/50\n",
      "50000/50000 [==============================] - 32s 636us/step - loss: 0.6838 - acc: 0.7879 - val_loss: 1.5666 - val_acc: 0.4920\n",
      "Epoch 40/50\n",
      "50000/50000 [==============================] - 37s 731us/step - loss: 0.6642 - acc: 0.7946 - val_loss: 1.5534 - val_acc: 0.4943\n",
      "Epoch 41/50\n",
      "50000/50000 [==============================] - 36s 727us/step - loss: 0.6472 - acc: 0.8006 - val_loss: 1.5587 - val_acc: 0.4918\n",
      "Epoch 42/50\n",
      "50000/50000 [==============================] - 31s 611us/step - loss: 0.6281 - acc: 0.8105 - val_loss: 1.5725 - val_acc: 0.4929\n",
      "Epoch 43/50\n",
      "50000/50000 [==============================] - 34s 677us/step - loss: 0.6113 - acc: 0.8155 - val_loss: 1.6083 - val_acc: 0.4887\n",
      "Epoch 44/50\n",
      "50000/50000 [==============================] - 36s 729us/step - loss: 0.5938 - acc: 0.8226 - val_loss: 1.5997 - val_acc: 0.4910\n",
      "Epoch 45/50\n",
      "50000/50000 [==============================] - 33s 667us/step - loss: 0.5764 - acc: 0.8301 - val_loss: 1.5980 - val_acc: 0.4904\n",
      "Epoch 46/50\n",
      "50000/50000 [==============================] - 31s 627us/step - loss: 0.5589 - acc: 0.8369 - val_loss: 1.6229 - val_acc: 0.4924\n",
      "Epoch 47/50\n",
      "50000/50000 [==============================] - 37s 731us/step - loss: 0.5405 - acc: 0.8439 - val_loss: 1.6279 - val_acc: 0.4939\n",
      "Epoch 48/50\n",
      "50000/50000 [==============================] - 37s 730us/step - loss: 0.5250 - acc: 0.8495 - val_loss: 1.6477 - val_acc: 0.4916\n",
      "Epoch 49/50\n",
      "50000/50000 [==============================] - 32s 649us/step - loss: 0.5077 - acc: 0.8568 - val_loss: 1.6644 - val_acc: 0.4909\n",
      "Epoch 50/50\n",
      "50000/50000 [==============================] - 44s 890us/step - loss: 0.4935 - acc: 0.8623 - val_loss: 1.6706 - val_acc: 0.4908\n"
     ]
    }
   ],
   "source": [
    "# 載入 Callbacks\n",
    "\"\"\"Code Here\n",
    "設定 callbacks: Earlystop\n",
    "\"\"\"\n",
    "from keras.callbacks import EarlyStopping\n",
    "\n",
    "earlystop = EarlyStopping(monitor=\"val_Accuracy\", \n",
    "                          patience=10, \n",
    "                          verbose=1\n",
    "                          )\n",
    "results = {}\n",
    "\"\"\"Code Here\n",
    "撰寫你的訓練流程並將結果用 dictionary 紀錄\n",
    "\"\"\"\n",
    "model = build_mlp(input_shape=x_train.shape[1:])\n",
    "model.summary()\n",
    "optimizer = keras.optimizers.SGD(lr=LEARNING_RATE, nesterov=True, momentum=MOMENTUM)\n",
    "model.compile(loss=\"categorical_crossentropy\", metrics=[\"accuracy\"], optimizer=optimizer)\n",
    "\n",
    "model.fit(x_train, y_train, \n",
    "          epochs=EPOCHS, \n",
    "          batch_size=BATCH_SIZE, \n",
    "          validation_data=(x_test, y_test), \n",
    "          shuffle=True,\n",
    "          callbacks=[earlystop]\n",
    "         )\n",
    "\n",
    "\n",
    "# Collect results\n",
    "train_loss = model.history.history[\"loss\"]\n",
    "valid_loss = model.history.history[\"val_loss\"]\n",
    "train_acc = model.history.history[\"acc\"]\n",
    "valid_acc = model.history.history[\"val_acc\"]"
   ]
  },
  {
   "cell_type": "code",
   "execution_count": 15,
   "metadata": {},
   "outputs": [
    {
     "data": {
      "image/png": "[encoded data removed]",
      "text/plain": [
       "<Figure size 432x288 with 1 Axes>"
      ]
     },
     "metadata": {
      "needs_background": "light"
     },
     "output_type": "display_data"
    },
    {
     "data": {
      "image/png": "[encoded data removed]",
      "text/plain": [
       "<Figure size 432x288 with 1 Axes>"
      ]
     },
     "metadata": {
      "needs_background": "light"
     },
     "output_type": "display_data"
    }
   ],
   "source": [
    "import matplotlib.pyplot as plt\n",
    "%matplotlib inline\n",
    "\"\"\"Code Here\n",
    "將結果繪出\n",
    "\"\"\"\n",
    "import matplotlib.pyplot as plt\n",
    "%matplotlib inline\n",
    "\n",
    "plt.plot(range(len(train_loss)), train_loss, label=\"train loss\")\n",
    "plt.plot(range(len(valid_loss)), valid_loss, label=\"valid loss\")\n",
    "plt.legend()\n",
    "plt.title(\"Loss\")\n",
    "plt.show()\n",
    "\n",
    "plt.plot(range(len(train_acc)), train_acc, label=\"train accuracy\")\n",
    "plt.plot(range(len(valid_acc)), valid_acc, label=\"valid accuracy\")\n",
    "plt.legend()\n",
    "plt.title(\"Accuracy\")\n",
    "plt.show()"
   ]
  },
  {
   "cell_type": "code",
   "execution_count": null,
   "metadata": {},
   "outputs": [],
   "source": []
  }
 ],
 "metadata": {
  "kernelspec": {
   "display_name": "Python 3",
   "language": "python",
   "name": "python3"
  },
  "language_info": {
   "codemirror_mode": {
    "name": "ipython",
    "version": 3
   },
   "file_extension": ".py",
   "mimetype": "text/x-python",
   "name": "python",
   "nbconvert_exporter": "python",
   "pygments_lexer": "ipython3",
   "version": "3.7.3"
  }
 },
 "nbformat": 4,
 "nbformat_minor": 2
}
