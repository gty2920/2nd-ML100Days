{
 "cells": [
  {
   "cell_type": "markdown",
   "metadata": {},
   "source": [
    "## Work\n",
    "1. 請比較使用不同層數以及不同 Dropout rate 對訓練的效果\n",
    "2. 將 optimizer 改成使用 Adam 並加上適當的 dropout rate 檢視結果"
   ]
  },
  {
   "cell_type": "code",
   "execution_count": 1,
   "metadata": {},
   "outputs": [
    {
     "name": "stderr",
     "output_type": "stream",
     "text": [
      "Using TensorFlow backend.\n"
     ]
    }
   ],
   "source": [
    "import os\n",
    "import keras\n",
    "import itertools\n",
    "# Disable GPU\n",
    "os.environ[\"CUDA_VISIBLE_DEVICES\"] = \"\""
   ]
  },
  {
   "cell_type": "code",
   "execution_count": 2,
   "metadata": {},
   "outputs": [],
   "source": [
    "train, test = keras.datasets.cifar10.load_data()"
   ]
  },
  {
   "cell_type": "code",
   "execution_count": 3,
   "metadata": {},
   "outputs": [],
   "source": [
    "## 資料前處理\n",
    "def preproc_x(x, flatten=True):\n",
    "    x = x / 255.\n",
    "    if flatten:\n",
    "        x = x.reshape((len(x), -1))\n",
    "    return x\n",
    "\n",
    "def preproc_y(y, num_classes=10):\n",
    "    if y.shape[-1] == 1:\n",
    "        y = keras.utils.to_categorical(y, num_classes)\n",
    "    return y    "
   ]
  },
  {
   "cell_type": "code",
   "execution_count": 4,
   "metadata": {},
   "outputs": [],
   "source": [
    "x_train, y_train = train\n",
    "x_test, y_test = test\n",
    "\n",
    "# Preproc the inputs\n",
    "x_train = preproc_x(x_train)\n",
    "x_test = preproc_x(x_test)\n",
    "\n",
    "# Preprc the outputs\n",
    "y_train = preproc_y(y_train)\n",
    "y_test = preproc_y(y_test)"
   ]
  },
  {
   "cell_type": "code",
   "execution_count": 16,
   "metadata": {},
   "outputs": [],
   "source": [
    "from keras.layers import Dropout\n",
    "def build_mlp(input_shape,output_units=10,num_neurons=[512,256,128],drp_ratio=0.2):\n",
    "    \"\"\"Code Here\n",
    "    建立你的神經網路\n",
    "    \"\"\"\n",
    "    input_layer=keras.layers.Input(input_shape)\n",
    "    for i,n_units in enumerate(num_neurons):\n",
    "        if i==0:\n",
    "            x=keras.layers.Dense(units=n_units,activation='relu',name=\"hidden_layer\"+str(i+1))(input_layer)\n",
    "            x=Dropout(drp_ratio)(x)\n",
    "        else:\n",
    "            x=keras.layers.Dense(units=n_units,activation='relu',name='hidden_layer'+str(i+1))(x)\n",
    "            x=Dropout(drp_ratio)(x)\n",
    "        out=keras.layers.Dense(units=output_units,activation='softmax',name='output')(x)\n",
    "        \n",
    "        model=keras.models.Model(inputs=input_layer,outputs=out)\n",
    "        \n",
    "        return model\n"
   ]
  },
  {
   "cell_type": "code",
   "execution_count": 17,
   "metadata": {},
   "outputs": [],
   "source": [
    "\"\"\"Code Here\n",
    "設定超參數\n",
    "\"\"\"\n",
    "LEARNING_RATE = 1e-3\n",
    "EPOCHS = 50\n",
    "BATCH_SIZE = 256\n",
    "MOMENTUM = 0.95\n",
    "Dropout_EXP = 0.25"
   ]
  },
  {
   "cell_type": "code",
   "execution_count": 18,
   "metadata": {
    "scrolled": true
   },
   "outputs": [
    {
     "name": "stdout",
     "output_type": "stream",
     "text": [
      "WARNING:tensorflow:From C:\\Users\\USER\\Anaconda3\\lib\\site-packages\\keras\\backend\\tensorflow_backend.py:3445: calling dropout (from tensorflow.python.ops.nn_ops) with keep_prob is deprecated and will be removed in a future version.\n",
      "Instructions for updating:\n",
      "Please use `rate` instead of `keep_prob`. Rate should be set to `rate = 1 - keep_prob`.\n",
      "_________________________________________________________________\n",
      "Layer (type)                 Output Shape              Param #   \n",
      "=================================================================\n",
      "input_7 (InputLayer)         (None, 3072)              0         \n",
      "_________________________________________________________________\n",
      "hidden_layer1 (Dense)        (None, 512)               1573376   \n",
      "_________________________________________________________________\n",
      "dropout_7 (Dropout)          (None, 512)               0         \n",
      "_________________________________________________________________\n",
      "output (Dense)               (None, 10)                5130      \n",
      "=================================================================\n",
      "Total params: 1,578,506\n",
      "Trainable params: 1,578,506\n",
      "Non-trainable params: 0\n",
      "_________________________________________________________________\n",
      "WARNING:tensorflow:From C:\\Users\\USER\\Anaconda3\\lib\\site-packages\\tensorflow\\python\\ops\\math_ops.py:3066: to_int32 (from tensorflow.python.ops.math_ops) is deprecated and will be removed in a future version.\n",
      "Instructions for updating:\n",
      "Use tf.cast instead.\n",
      "Train on 50000 samples, validate on 10000 samples\n",
      "Epoch 1/50\n",
      "50000/50000 [==============================] - 40s 803us/step - loss: 2.0358 - acc: 0.2658 - val_loss: 1.8660 - val_acc: 0.3437\n",
      "Epoch 2/50\n",
      "50000/50000 [==============================] - 39s 776us/step - loss: 1.8476 - acc: 0.3484 - val_loss: 1.7853 - val_acc: 0.3755\n",
      "Epoch 3/50\n",
      "50000/50000 [==============================] - 39s 780us/step - loss: 1.7831 - acc: 0.3748 - val_loss: 1.7345 - val_acc: 0.3978\n",
      "Epoch 4/50\n",
      "50000/50000 [==============================] - 36s 725us/step - loss: 1.7368 - acc: 0.3929 - val_loss: 1.6972 - val_acc: 0.4134\n",
      "Epoch 5/50\n",
      "50000/50000 [==============================] - 34s 690us/step - loss: 1.7046 - acc: 0.4049 - val_loss: 1.6694 - val_acc: 0.4263\n",
      "Epoch 6/50\n",
      "50000/50000 [==============================] - 36s 711us/step - loss: 1.6749 - acc: 0.4143 - val_loss: 1.6409 - val_acc: 0.4290\n",
      "Epoch 7/50\n",
      "50000/50000 [==============================] - 34s 678us/step - loss: 1.6517 - acc: 0.4240 - val_loss: 1.6205 - val_acc: 0.4358\n",
      "Epoch 8/50\n",
      "50000/50000 [==============================] - 36s 714us/step - loss: 1.6308 - acc: 0.4307 - val_loss: 1.6001 - val_acc: 0.4401\n",
      "Epoch 9/50\n",
      "50000/50000 [==============================] - 31s 610us/step - loss: 1.6108 - acc: 0.4390 - val_loss: 1.5844 - val_acc: 0.4508\n",
      "Epoch 10/50\n",
      "50000/50000 [==============================] - 29s 590us/step - loss: 1.5957 - acc: 0.4454 - val_loss: 1.5714 - val_acc: 0.4539\n",
      "Epoch 11/50\n",
      "50000/50000 [==============================] - 30s 595us/step - loss: 1.5788 - acc: 0.4506 - val_loss: 1.5569 - val_acc: 0.4556\n",
      "Epoch 12/50\n",
      "50000/50000 [==============================] - 32s 636us/step - loss: 1.5647 - acc: 0.4563 - val_loss: 1.5421 - val_acc: 0.4655\n",
      "Epoch 13/50\n",
      "50000/50000 [==============================] - 35s 700us/step - loss: 1.5510 - acc: 0.4605 - val_loss: 1.5304 - val_acc: 0.4695\n",
      "Epoch 14/50\n",
      "50000/50000 [==============================] - 33s 667us/step - loss: 1.5379 - acc: 0.4656 - val_loss: 1.5247 - val_acc: 0.4729\n",
      "Epoch 15/50\n",
      "50000/50000 [==============================] - 35s 691us/step - loss: 1.4345 - acc: 0.5038 - val_loss: 1.4399 - val_acc: 0.4994\n",
      "Epoch 26/50\n",
      "50000/50000 [==============================] - 30s 596us/step - loss: 1.4257 - acc: 0.5062 - val_loss: 1.4378 - val_acc: 0.5017\n",
      "Epoch 27/50\n",
      "50000/50000 [==============================] - 30s 593us/step - loss: 1.4193 - acc: 0.5103 - val_loss: 1.4335 - val_acc: 0.5014\n",
      "Epoch 28/50\n",
      "50000/50000 [==============================] - 30s 593us/step - loss: 1.4103 - acc: 0.5117 - val_loss: 1.4233 - val_acc: 0.5060\n",
      "Epoch 29/50\n",
      "50000/50000 [==============================] - 30s 605us/step - loss: 1.4012 - acc: 0.5142 - val_loss: 1.4173 - val_acc: 0.5094\n",
      "Epoch 30/50\n",
      "50000/50000 [==============================] - 36s 712us/step - loss: 1.3991 - acc: 0.5177 - val_loss: 1.4126 - val_acc: 0.5095- loss: 1.\n",
      "Epoch 31/50\n",
      "50000/50000 [==============================] - 30s 597us/step - loss: 1.3720 - acc: 0.5255 - val_loss: 1.3995 - val_acc: 0.5127\n",
      "Epoch 35/50\n",
      "50000/50000 [==============================] - 30s 610us/step - loss: 1.3642 - acc: 0.5283 - val_loss: 1.3935 - val_acc: 0.5143\n",
      "Epoch 36/50\n",
      "50000/50000 [==============================] - 34s 673us/step - loss: 1.3562 - acc: 0.5305 - val_loss: 1.3936 - val_acc: 0.5119\n",
      "Epoch 37/50\n",
      "50000/50000 [==============================] - 35s 706us/step - loss: 1.3510 - acc: 0.5328 - val_loss: 1.3856 - val_acc: 0.5198\n",
      "Epoch 38/50\n",
      "50000/50000 [==============================] - 31s 620us/step - loss: 1.3453 - acc: 0.5346 - val_loss: 1.3807 - val_acc: 0.5207\n",
      "Epoch 39/50\n",
      "50000/50000 [==============================] - 33s 653us/step - loss: 1.3428 - acc: 0.5378 - val_loss: 1.3817 - val_acc: 0.5192\n",
      "Epoch 40/50\n",
      "50000/50000 [==============================] - 30s 608us/step - loss: 1.3391 - acc: 0.5398 - val_loss: 1.3757 - val_acc: 0.5181\n",
      "Epoch 41/50\n",
      "50000/50000 [==============================] - 41s 815us/step - loss: 1.3304 - acc: 0.5381 - val_loss: 1.3743 - val_acc: 0.5205\n",
      "Epoch 42/50\n",
      "50000/50000 [==============================] - 53s 1ms/step - loss: 1.3260 - acc: 0.5426 - val_loss: 1.3718 - val_acc: 0.5223\n",
      "Epoch 43/50\n",
      "50000/50000 [==============================] - 35s 691us/step - loss: 1.3199 - acc: 0.5453 - val_loss: 1.3659 - val_acc: 0.5250\n",
      "Epoch 44/50\n",
      "50000/50000 [==============================] - 31s 610us/step - loss: 1.3125 - acc: 0.5478 - val_loss: 1.3706 - val_acc: 0.5242\n",
      "Epoch 45/50\n",
      "50000/50000 [==============================] - 31s 624us/step - loss: 1.3094 - acc: 0.5464 - val_loss: 1.3586 - val_acc: 0.5242\n",
      "Epoch 46/50\n",
      "50000/50000 [==============================] - 31s 615us/step - loss: 1.3029 - acc: 0.5506 - val_loss: 1.3568 - val_acc: 0.5260\n",
      "Epoch 47/50\n",
      "50000/50000 [==============================] - 31s 613us/step - loss: 1.3014 - acc: 0.5499 - val_loss: 1.3583 - val_acc: 0.5205\n",
      "Epoch 48/50\n",
      "50000/50000 [==============================] - 31s 613us/step - loss: 1.2964 - acc: 0.5543 - val_loss: 1.3556 - val_acc: 0.5228\n",
      "Epoch 49/50\n",
      "50000/50000 [==============================] - 30s 609us/step - loss: 1.2901 - acc: 0.5563 - val_loss: 1.3477 - val_acc: 0.5288\n",
      "Epoch 50/50\n",
      "50000/50000 [==============================] - 31s 620us/step - loss: 1.2833 - acc: 0.5565 - val_loss: 1.3569 - val_acc: 0.5202\n"
     ]
    }
   ],
   "source": [
    "#results = {}\n",
    "\"\"\"Code Here\n",
    "撰寫你的訓練流程並將結果用 dictionary 紀錄\n",
    "\"\"\"\n",
    "model = build_mlp(input_shape=x_train.shape[1:], drp_ratio=Dropout_EXP)\n",
    "model.summary()\n",
    "optimizer = keras.optimizers.SGD(lr=LEARNING_RATE, nesterov=True, momentum=MOMENTUM)\n",
    "model.compile(loss=\"categorical_crossentropy\", metrics=[\"accuracy\"], optimizer=optimizer)\n",
    "\n",
    "model.fit(x_train, y_train, \n",
    "          epochs=EPOCHS, \n",
    "          batch_size=BATCH_SIZE, \n",
    "          validation_data=(x_test, y_test), \n",
    "          shuffle=True)\n",
    "\n",
    "# Collect results\n",
    "train_loss = model.history.history[\"loss\"]\n",
    "valid_loss = model.history.history[\"val_loss\"]\n",
    "train_acc = model.history.history[\"acc\"]\n",
    "valid_acc = model.history.history[\"val_acc\"]\n"
   ]
  },
  {
   "cell_type": "code",
   "execution_count": 19,
   "metadata": {},
   "outputs": [
    {
     "data": {
      "image/png": "[encoded data removed]",
      "text/plain": [
       "<Figure size 432x288 with 1 Axes>"
      ]
     },
     "metadata": {
      "needs_background": "light"
     },
     "output_type": "display_data"
    },
    {
     "data": {
      "image/png": "[encoded data removed]",
      "text/plain": [
       "<Figure size 432x288 with 1 Axes>"
      ]
     },
     "metadata": {
      "needs_background": "light"
     },
     "output_type": "display_data"
    }
   ],
   "source": [
    "import matplotlib.pyplot as plt\n",
    "%matplotlib inline\n",
    "\"\"\"Code Here\n",
    "將結果繪出\n",
    "\"\"\"\n",
    "\n",
    "plt.plot(range(len(train_loss)), train_loss, label=\"train loss\")\n",
    "plt.plot(range(len(valid_loss)), valid_loss, label=\"valid loss\")\n",
    "plt.legend()\n",
    "plt.title(\"Loss\")\n",
    "plt.show()\n",
    "\n",
    "plt.plot(range(len(train_acc)), train_acc, label=\"train accuracy\")\n",
    "plt.plot(range(len(valid_acc)), valid_acc, label=\"valid accuracy\")\n",
    "plt.legend()\n",
    "plt.title(\"Accuracy\")\n",
    "plt.show()"
   ]
  },
  {
   "cell_type": "code",
   "execution_count": null,
   "metadata": {},
   "outputs": [],
   "source": []
  }
 ],
 "metadata": {
  "kernelspec": {
   "display_name": "Python 3",
   "language": "python",
   "name": "python3"
  },
  "language_info": {
   "codemirror_mode": {
    "name": "ipython",
    "version": 3
   },
   "file_extension": ".py",
   "mimetype": "text/x-python",
   "name": "python",
   "nbconvert_exporter": "python",
   "pygments_lexer": "ipython3",
   "version": "3.7.3"
  }
 },
 "nbformat": 4,
 "nbformat_minor": 2
}
