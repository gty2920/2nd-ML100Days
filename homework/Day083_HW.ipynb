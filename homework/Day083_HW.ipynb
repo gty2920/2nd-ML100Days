{
 "cells": [
  {
   "cell_type": "markdown",
   "metadata": {},
   "source": [
    "## Work\n",
    "1. 試比較有 BN 在 Batch_size = 2, 16, 32, 128, 256 下的差異\n",
    "2. 請嘗試將 BN 放在 Activation 之前，並比較訓練結果\n",
    "3. 請於 BN 放在 Input Layer 後，並比較結果"
   ]
  },
  {
   "cell_type": "code",
   "execution_count": 1,
   "metadata": {},
   "outputs": [
    {
     "name": "stderr",
     "output_type": "stream",
     "text": [
      "Using TensorFlow backend.\n"
     ]
    }
   ],
   "source": [
    "import os\n",
    "import keras\n",
    "import itertools\n",
    "# Disable GPU\n",
    "os.environ[\"CUDA_VISIBLE_DEVICES\"] = \"\""
   ]
  },
  {
   "cell_type": "code",
   "execution_count": 2,
   "metadata": {},
   "outputs": [],
   "source": [
    "train, test = keras.datasets.cifar10.load_data()"
   ]
  },
  {
   "cell_type": "code",
   "execution_count": 3,
   "metadata": {},
   "outputs": [],
   "source": [
    "## 資料前處理\n",
    "def preproc_x(x, flatten=True):\n",
    "    x = x / 255.\n",
    "    if flatten:\n",
    "        x = x.reshape((len(x), -1))\n",
    "    return x\n",
    "\n",
    "def preproc_y(y, num_classes=10):\n",
    "    if y.shape[-1] == 1:\n",
    "        y = keras.utils.to_categorical(y, num_classes)\n",
    "    return y    "
   ]
  },
  {
   "cell_type": "code",
   "execution_count": 4,
   "metadata": {},
   "outputs": [],
   "source": [
    "x_train, y_train = train\n",
    "x_test, y_test = test\n",
    "\n",
    "# Preproc the inputs\n",
    "x_train = preproc_x(x_train)\n",
    "x_test = preproc_x(x_test)\n",
    "\n",
    "# Preprc the outputs\n",
    "y_train = preproc_y(y_train)\n",
    "y_test = preproc_y(y_test)"
   ]
  },
  {
   "cell_type": "code",
   "execution_count": 5,
   "metadata": {},
   "outputs": [],
   "source": [
    "from keras.layers import BatchNormalization\n",
    "def build_mlp(input_shape,output_units=10,num_neurons=[512,256,128]):\n",
    "    \"\"\"Code Here\n",
    "    建立你的神經網路\n",
    "    \"\"\"\n",
    "    input_layer=keras.layers.Input(input_shape)\n",
    "    for i, n_units in enumerate(num_neurons):\n",
    "        if i==0:\n",
    "            x=keras.layers.Dense(units=n_units,activation='relu',name='hidden_layer'+str(i+1))(input_layer)\n",
    "            x=BatchNormalization()(x)\n",
    "        else:\n",
    "            x=keras.layers.Dense(units=n_units,activation='relu',name='hidden_layer'+str(i+1))(x)\n",
    "            x=BatchNormalization()(x)\n",
    "    \n",
    "    out=keras.layers.Dense(units=output_units,activation='softmax',name='output')(x)\n",
    "    model=keras.models.Model(inputs=[input_layer],outputs=[out])\n",
    "    \n",
    "    return model"
   ]
  },
  {
   "cell_type": "code",
   "execution_count": 6,
   "metadata": {},
   "outputs": [],
   "source": [
    "\"\"\"Code Here\n",
    "設定超參數\n",
    "\"\"\"\n",
    "LEARNING_RATE = 1e-3\n",
    "EPOCHS = 50\n",
    "BATCH_SIZE = 1024\n",
    "MOMENTUM = 0.95"
   ]
  },
  {
   "cell_type": "code",
   "execution_count": 7,
   "metadata": {
    "scrolled": true
   },
   "outputs": [
    {
     "name": "stdout",
     "output_type": "stream",
     "text": [
      "WARNING:tensorflow:From C:\\Users\\USER\\Anaconda3\\lib\\site-packages\\tensorflow\\python\\framework\\op_def_library.py:263: colocate_with (from tensorflow.python.framework.ops) is deprecated and will be removed in a future version.\n",
      "Instructions for updating:\n",
      "Colocations handled automatically by placer.\n",
      "_________________________________________________________________\n",
      "Layer (type)                 Output Shape              Param #   \n",
      "=================================================================\n",
      "input_1 (InputLayer)         (None, 3072)              0         \n",
      "_________________________________________________________________\n",
      "hidden_layer1 (Dense)        (None, 512)               1573376   \n",
      "_________________________________________________________________\n",
      "batch_normalization_1 (Batch (None, 512)               2048      \n",
      "_________________________________________________________________\n",
      "hidden_layer2 (Dense)        (None, 256)               131328    \n",
      "_________________________________________________________________\n",
      "batch_normalization_2 (Batch (None, 256)               1024      \n",
      "_________________________________________________________________\n",
      "hidden_layer3 (Dense)        (None, 128)               32896     \n",
      "_________________________________________________________________\n",
      "batch_normalization_3 (Batch (None, 128)               512       \n",
      "_________________________________________________________________\n",
      "output (Dense)               (None, 10)                1290      \n",
      "=================================================================\n",
      "Total params: 1,742,474\n",
      "Trainable params: 1,740,682\n",
      "Non-trainable params: 1,792\n",
      "_________________________________________________________________\n",
      "WARNING:tensorflow:From C:\\Users\\USER\\Anaconda3\\lib\\site-packages\\tensorflow\\python\\ops\\math_ops.py:3066: to_int32 (from tensorflow.python.ops.math_ops) is deprecated and will be removed in a future version.\n",
      "Instructions for updating:\n",
      "Use tf.cast instead.\n",
      "Train on 50000 samples, validate on 10000 samples\n",
      "Epoch 1/50\n",
      "50000/50000 [==============================] - 61s 1ms/step - loss: 2.2111 - acc: 0.2696 - val_loss: 2.0631 - val_acc: 0.3212\n",
      "Epoch 2/50\n",
      "50000/50000 [==============================] - 34s 689us/step - loss: 1.7337 - acc: 0.3950 - val_loss: 1.7620 - val_acc: 0.3871\n",
      "Epoch 3/50\n",
      "50000/50000 [==============================] - 39s 786us/step - loss: 1.6125 - acc: 0.4360 - val_loss: 1.6715 - val_acc: 0.4094\n",
      "Epoch 4/50\n",
      "50000/50000 [==============================] - 57s 1ms/step - loss: 1.5386 - acc: 0.4623 - val_loss: 1.6293 - val_acc: 0.4309\n",
      "Epoch 5/50\n",
      "50000/50000 [==============================] - 42s 839us/step - loss: 1.4813 - acc: 0.4814 - val_loss: 1.5805 - val_acc: 0.4440\n",
      "Epoch 6/50\n",
      "50000/50000 [==============================] - 38s 757us/step - loss: 1.4348 - acc: 0.4990 - val_loss: 1.5594 - val_acc: 0.4432\n",
      "Epoch 7/50\n",
      "50000/50000 [==============================] - 40s 795us/step - loss: 1.3955 - acc: 0.5129 - val_loss: 1.5361 - val_acc: 0.4639\n",
      "Epoch 8/50\n",
      "50000/50000 [==============================] - 39s 787us/step - loss: 1.3596 - acc: 0.5253 - val_loss: 1.5215 - val_acc: 0.4642\n",
      "Epoch 9/50\n",
      "50000/50000 [==============================] - 34s 671us/step - loss: 1.3265 - acc: 0.5392 - val_loss: 1.5048 - val_acc: 0.4742\n",
      "Epoch 10/50\n",
      "50000/50000 [==============================] - 29s 582us/step - loss: 1.2957 - acc: 0.5498 - val_loss: 1.5081 - val_acc: 0.4690\n",
      "Epoch 11/50\n",
      "50000/50000 [==============================] - 30s 594us/step - loss: 1.2667 - acc: 0.5623 - val_loss: 1.4826 - val_acc: 0.4736\n",
      "Epoch 12/50\n",
      "50000/50000 [==============================] - 39s 772us/step - loss: 1.2402 - acc: 0.5712 - val_loss: 1.4714 - val_acc: 0.4850\n",
      "Epoch 13/50\n",
      "50000/50000 [==============================] - 46s 915us/step - loss: 1.2135 - acc: 0.5814 - val_loss: 1.4711 - val_acc: 0.4814\n",
      "Epoch 14/50\n",
      "50000/50000 [==============================] - 33s 662us/step - loss: 1.1877 - acc: 0.5903 - val_loss: 1.4724 - val_acc: 0.4814\n",
      "Epoch 15/50\n",
      "50000/50000 [==============================] - 36s 727us/step - loss: 1.1660 - acc: 0.5993 - val_loss: 1.4601 - val_acc: 0.4885\n",
      "Epoch 16/50\n",
      "50000/50000 [==============================] - 38s 752us/step - loss: 1.1426 - acc: 0.6077 - val_loss: 1.4549 - val_acc: 0.4879\n",
      "Epoch 17/50\n",
      "50000/50000 [==============================] - 34s 682us/step - loss: 1.1192 - acc: 0.6167 - val_loss: 1.4584 - val_acc: 0.4906\n",
      "Epoch 18/50\n",
      "50000/50000 [==============================] - 38s 752us/step - loss: 1.0953 - acc: 0.6259 - val_loss: 1.4497 - val_acc: 0.4901\n",
      "Epoch 19/50\n",
      "50000/50000 [==============================] - 39s 788us/step - loss: 1.0726 - acc: 0.6360 - val_loss: 1.4535 - val_acc: 0.4933\n",
      "Epoch 20/50\n",
      "50000/50000 [==============================] - 39s 772us/step - loss: 1.0506 - acc: 0.6453 - val_loss: 1.4600 - val_acc: 0.4924\n",
      "Epoch 21/50\n",
      "50000/50000 [==============================] - 40s 790us/step - loss: 1.0307 - acc: 0.6504 - val_loss: 1.4431 - val_acc: 0.4973\n",
      "Epoch 22/50\n",
      "50000/50000 [==============================] - 38s 770us/step - loss: 1.0066 - acc: 0.6593 - val_loss: 1.4513 - val_acc: 0.4952\n",
      "Epoch 23/50\n",
      "50000/50000 [==============================] - 33s 657us/step - loss: 0.9865 - acc: 0.6700 - val_loss: 1.4687 - val_acc: 0.4872\n",
      "Epoch 24/50\n",
      "50000/50000 [==============================] - 31s 614us/step - loss: 0.9643 - acc: 0.6793 - val_loss: 1.4471 - val_acc: 0.4979\n",
      "Epoch 25/50\n",
      "50000/50000 [==============================] - 35s 705us/step - loss: 0.9468 - acc: 0.6837 - val_loss: 1.4440 - val_acc: 0.5004\n",
      "Epoch 26/50\n",
      "50000/50000 [==============================] - 42s 841us/step - loss: 0.9254 - acc: 0.6913 - val_loss: 1.4657 - val_acc: 0.4928\n",
      "Epoch 27/50\n",
      "50000/50000 [==============================] - 37s 732us/step - loss: 0.9053 - acc: 0.6977 - val_loss: 1.4707 - val_acc: 0.4921\n",
      "Epoch 28/50\n",
      "50000/50000 [==============================] - 34s 686us/step - loss: 0.8826 - acc: 0.7093 - val_loss: 1.4804 - val_acc: 0.4981\n",
      "Epoch 29/50\n",
      "50000/50000 [==============================] - 35s 696us/step - loss: 0.8640 - acc: 0.7159 - val_loss: 1.4668 - val_acc: 0.4930\n",
      "Epoch 30/50\n",
      "50000/50000 [==============================] - 33s 651us/step - loss: 0.8436 - acc: 0.7243 - val_loss: 1.4845 - val_acc: 0.4936\n",
      "Epoch 31/50\n",
      "50000/50000 [==============================] - 35s 693us/step - loss: 0.8226 - acc: 0.7321 - val_loss: 1.4791 - val_acc: 0.4960\n",
      "Epoch 32/50\n",
      "50000/50000 [==============================] - 40s 796us/step - loss: 0.8037 - acc: 0.7398 - val_loss: 1.4916 - val_acc: 0.4971\n",
      "Epoch 33/50\n",
      "50000/50000 [==============================] - 38s 761us/step - loss: 0.7845 - acc: 0.7482 - val_loss: 1.4993 - val_acc: 0.4934\n",
      "Epoch 34/50\n",
      "50000/50000 [==============================] - 32s 650us/step - loss: 0.7649 - acc: 0.7551 - val_loss: 1.5076 - val_acc: 0.4927\n",
      "Epoch 35/50\n",
      "50000/50000 [==============================] - 37s 745us/step - loss: 0.7476 - acc: 0.7630 - val_loss: 1.5279 - val_acc: 0.4908\n",
      "Epoch 36/50\n",
      "50000/50000 [==============================] - 37s 750us/step - loss: 0.7260 - acc: 0.7702 - val_loss: 1.5259 - val_acc: 0.4922\n",
      "Epoch 37/50\n",
      "50000/50000 [==============================] - 34s 687us/step - loss: 0.7082 - acc: 0.7767 - val_loss: 1.5302 - val_acc: 0.4900\n",
      "Epoch 38/50\n",
      "50000/50000 [==============================] - 36s 723us/step - loss: 0.6886 - acc: 0.7849 - val_loss: 1.5290 - val_acc: 0.4980\n",
      "Epoch 39/50\n",
      "50000/50000 [==============================] - 37s 737us/step - loss: 0.6689 - acc: 0.7921 - val_loss: 1.5463 - val_acc: 0.4922\n",
      "Epoch 40/50\n",
      "50000/50000 [==============================] - 32s 644us/step - loss: 0.6513 - acc: 0.8008 - val_loss: 1.5579 - val_acc: 0.4868\n",
      "Epoch 41/50\n",
      "50000/50000 [==============================] - 31s 623us/step - loss: 0.6340 - acc: 0.8063 - val_loss: 1.5672 - val_acc: 0.4970\n",
      "Epoch 42/50\n",
      "50000/50000 [==============================] - 34s 685us/step - loss: 0.6168 - acc: 0.8129 - val_loss: 1.5749 - val_acc: 0.4945\n",
      "Epoch 43/50\n",
      "50000/50000 [==============================] - 34s 670us/step - loss: 0.5987 - acc: 0.8194 - val_loss: 1.5847 - val_acc: 0.4910\n",
      "Epoch 44/50\n",
      "50000/50000 [==============================] - 30s 593us/step - loss: 0.5789 - acc: 0.8291 - val_loss: 1.5967 - val_acc: 0.4923\n",
      "Epoch 45/50\n"
     ]
    },
    {
     "name": "stdout",
     "output_type": "stream",
     "text": [
      "50000/50000 [==============================] - 34s 675us/step - loss: 0.5631 - acc: 0.8345 - val_loss: 1.6156 - val_acc: 0.4905\n",
      "Epoch 46/50\n",
      "50000/50000 [==============================] - 34s 690us/step - loss: 0.5465 - acc: 0.8418 - val_loss: 1.6213 - val_acc: 0.4890\n",
      "Epoch 47/50\n",
      "50000/50000 [==============================] - 33s 661us/step - loss: 0.5309 - acc: 0.8475 - val_loss: 1.6376 - val_acc: 0.4903\n",
      "Epoch 48/50\n",
      "50000/50000 [==============================] - 31s 611us/step - loss: 0.5110 - acc: 0.8546 - val_loss: 1.6493 - val_acc: 0.4932\n",
      "Epoch 49/50\n",
      "50000/50000 [==============================] - 35s 699us/step - loss: 0.4971 - acc: 0.8603 - val_loss: 1.6970 - val_acc: 0.4873\n",
      "Epoch 50/50\n",
      "50000/50000 [==============================] - 34s 676us/step - loss: 0.4803 - acc: 0.8667 - val_loss: 1.6915 - val_acc: 0.4854\n"
     ]
    }
   ],
   "source": [
    "results = {}\n",
    "\"\"\"Code Here\n",
    "撰寫你的訓練流程並將結果用 dictionary 紀錄\n",
    "\"\"\"\n",
    "model = build_mlp(input_shape=x_train.shape[1:])\n",
    "model.summary()\n",
    "optimizer = keras.optimizers.SGD(lr=LEARNING_RATE, nesterov=True, momentum=MOMENTUM)\n",
    "model.compile(loss=\"categorical_crossentropy\", metrics=[\"accuracy\"], optimizer=optimizer)\n",
    "\n",
    "model.fit(x_train, y_train, \n",
    "          epochs=EPOCHS, \n",
    "          batch_size=BATCH_SIZE, \n",
    "          validation_data=(x_test, y_test), \n",
    "          shuffle=True)\n",
    "\n",
    "# Collect results\n",
    "train_loss = model.history.history[\"loss\"]\n",
    "valid_loss = model.history.history[\"val_loss\"]\n",
    "train_acc = model.history.history[\"acc\"]\n",
    "valid_acc = model.history.history[\"val_acc\"]"
   ]
  },
  {
   "cell_type": "code",
   "execution_count": 8,
   "metadata": {},
   "outputs": [
    {
     "data": {
      "image/png": "[encoded data removed]",
      "text/plain": [
       "<Figure size 432x288 with 1 Axes>"
      ]
     },
     "metadata": {
      "needs_background": "light"
     },
     "output_type": "display_data"
    },
    {
     "data": {
      "image/png": "[encoded data removed]",
      "text/plain": [
       "<Figure size 432x288 with 1 Axes>"
      ]
     },
     "metadata": {
      "needs_background": "light"
     },
     "output_type": "display_data"
    }
   ],
   "source": [
    "import matplotlib.pyplot as plt\n",
    "%matplotlib inline\n",
    "\"\"\"Code Here\n",
    "將結果繪出\n",
    "\"\"\"\n",
    "import matplotlib.pyplot as plt\n",
    "%matplotlib inline\n",
    "\n",
    "plt.plot(range(len(train_loss)), train_loss, label=\"train loss\")\n",
    "plt.plot(range(len(valid_loss)), valid_loss, label=\"valid loss\")\n",
    "plt.legend()\n",
    "plt.title(\"Loss\")\n",
    "plt.show()\n",
    "\n",
    "plt.plot(range(len(train_acc)), train_acc, label=\"train accuracy\")\n",
    "plt.plot(range(len(valid_acc)), valid_acc, label=\"valid accuracy\")\n",
    "plt.legend()\n",
    "plt.title(\"Accuracy\")\n",
    "plt.show()"
   ]
  },
  {
   "cell_type": "code",
   "execution_count": null,
   "metadata": {},
   "outputs": [],
   "source": []
  }
 ],
 "metadata": {
  "kernelspec": {
   "display_name": "Python 3",
   "language": "python",
   "name": "python3"
  },
  "language_info": {
   "codemirror_mode": {
    "name": "ipython",
    "version": 3
   },
   "file_extension": ".py",
   "mimetype": "text/x-python",
   "name": "python",
   "nbconvert_exporter": "python",
   "pygments_lexer": "ipython3",
   "version": "3.7.3"
  }
 },
 "nbformat": 4,
 "nbformat_minor": 2
}
