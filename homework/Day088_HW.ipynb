{
 "cells": [
  {
   "cell_type": "markdown",
   "metadata": {},
   "source": [
    "## Work\n",
    "1. 請嘗試寫一個 callback 用來記錄各類別在訓練過程中，對驗證集的 True Positive 與 True Negative"
   ]
  },
  {
   "cell_type": "code",
   "execution_count": 1,
   "metadata": {},
   "outputs": [
    {
     "name": "stderr",
     "output_type": "stream",
     "text": [
      "Using TensorFlow backend.\n"
     ]
    }
   ],
   "source": [
    "import os\n",
    "import keras\n",
    "\n",
    "# Disable GPU\n",
    "os.environ[\"CUDA_VISIBLE_DEVICES\"] = \"\""
   ]
  },
  {
   "cell_type": "code",
   "execution_count": 2,
   "metadata": {},
   "outputs": [],
   "source": [
    "train, test = keras.datasets.cifar10.load_data()"
   ]
  },
  {
   "cell_type": "code",
   "execution_count": 3,
   "metadata": {},
   "outputs": [],
   "source": [
    "## 資料前處理\n",
    "def preproc_x(x, flatten=True):\n",
    "    x = x / 255.\n",
    "    if flatten:\n",
    "        x = x.reshape((len(x), -1))\n",
    "    return x\n",
    "\n",
    "def preproc_y(y, num_classes=10):\n",
    "    if y.shape[-1] == 1:\n",
    "        y = keras.utils.to_categorical(y, num_classes)\n",
    "    return y    "
   ]
  },
  {
   "cell_type": "code",
   "execution_count": 4,
   "metadata": {},
   "outputs": [],
   "source": [
    "x_train, y_train = train\n",
    "x_test, y_test = test\n",
    "\n",
    "# Preproc the inputs\n",
    "x_train = preproc_x(x_train)\n",
    "x_test = preproc_x(x_test)\n",
    "\n",
    "# Preprc the outputs\n",
    "y_train = preproc_y(y_train)\n",
    "y_test = preproc_y(y_test)"
   ]
  },
  {
   "cell_type": "code",
   "execution_count": 5,
   "metadata": {},
   "outputs": [],
   "source": [
    "from keras.layers import BatchNormalization\n",
    "def build_mlp(input_shape, output_units=10, num_neurons=[256, 256, 256]):\n",
    "    \"\"\"\n",
    "    Code Here\n",
    "    建立你的神經網路\n",
    "    \"\"\"\n",
    "    input_layer = keras.layers.Input(input_shape)\n",
    "    \n",
    "    for i, n_units in enumerate(num_neurons):\n",
    "        if i == 0:\n",
    "            x = keras.layers.Dense(units=n_units, \n",
    "                                   activation=\"relu\", \n",
    "                                   name=\"hidden_layer\"+str(i+1))(input_layer)\n",
    "            x = BatchNormalization()(x)\n",
    "        else:\n",
    "            x = keras.layers.Dense(units=n_units, \n",
    "                                   activation=\"relu\", \n",
    "                                   name=\"hidden_layer\"+str(i+1))(x)\n",
    "            x = BatchNormalization()(x)\n",
    "    \n",
    "    out = keras.layers.Dense(units=output_units, activation=\"softmax\", name=\"output\")(x)\n",
    "    \n",
    "    model = keras.models.Model(inputs=[input_layer], outputs=[out])\n",
    "    return model"
   ]
  },
  {
   "cell_type": "code",
   "execution_count": 6,
   "metadata": {},
   "outputs": [],
   "source": [
    "## 超參數設定\n",
    "LEARNING_RATE = 1e-3\n",
    "EPOCHS = 25\n",
    "BATCH_SIZE = 1024\n",
    "MOMENTUM = 0.95"
   ]
  },
  {
   "cell_type": "code",
   "execution_count": 11,
   "metadata": {},
   "outputs": [],
   "source": [
    "# 載入 Callbacks\n",
    "from keras.callbacks import Callback\n",
    "import numpy as np\n",
    "# Record_fp_tp\n",
    "class Record_tp_tn(Callback):\n",
    "    \"\"\"\n",
    "    Code Here\n",
    "    撰寫一個紀錄 ture positive 與 true negative 數量的 callbacks    \n",
    "    \"\"\"\n",
    "    def on_train_begin(self, epoch, logs = {}):\n",
    "        logs = logs or {}\n",
    "        record_items = [\"val_auc\", \"val_f1sc\", \"val_fp\", \"val_fn\", \"val_tp\", \"val_tn\"]\n",
    "        for i in record_items:\n",
    "            if i not in self.params['metrics']:\n",
    "                self.params['metrics'].append(i)\n",
    "    \n",
    "    def on_epoch_end(self, epoch, logs = {}, thres=0.5):\n",
    "        logs = logs or {}\n",
    "        y_true = self.validation_data[1].argmax(axis = 1)\n",
    "        y_pred = self.model.predict(self.validation_data[0])\n",
    "        y_pred = (y_pred[:, 1] >= thres) * 1\n",
    "        \n",
    "        logs[\"valid_tp\"] = np.sum(np.logical_and(y_pred == 1, y_true == 1))\n",
    "        logs[\"valid_tn\"] = np.sum(np.logical_and(y_pred == 0, y_true == 0)) \n",
    "              \n",
    "rec_tptn = Record_tp_tn()"
   ]
  },
  {
   "cell_type": "code",
   "execution_count": 12,
   "metadata": {
    "scrolled": true
   },
   "outputs": [
    {
     "name": "stdout",
     "output_type": "stream",
     "text": [
      "_________________________________________________________________\n",
      "Layer (type)                 Output Shape              Param #   \n",
      "=================================================================\n",
      "input_3 (InputLayer)         (None, 3072)              0         \n",
      "_________________________________________________________________\n",
      "hidden_layer1 (Dense)        (None, 256)               786688    \n",
      "_________________________________________________________________\n",
      "batch_normalization_7 (Batch (None, 256)               1024      \n",
      "_________________________________________________________________\n",
      "hidden_layer2 (Dense)        (None, 256)               65792     \n",
      "_________________________________________________________________\n",
      "batch_normalization_8 (Batch (None, 256)               1024      \n",
      "_________________________________________________________________\n",
      "hidden_layer3 (Dense)        (None, 256)               65792     \n",
      "_________________________________________________________________\n",
      "batch_normalization_9 (Batch (None, 256)               1024      \n",
      "_________________________________________________________________\n",
      "output (Dense)               (None, 10)                2570      \n",
      "=================================================================\n",
      "Total params: 923,914\n",
      "Trainable params: 922,378\n",
      "Non-trainable params: 1,536\n",
      "_________________________________________________________________\n",
      "Train on 50000 samples, validate on 10000 samples\n",
      "Epoch 1/25\n",
      "50000/50000 [==============================] - 52s 1ms/step - loss: 2.2479 - acc: 0.2615 - val_loss: 2.1623 - val_acc: 0.3009\n",
      "Epoch 2/25\n",
      "50000/50000 [==============================] - 30s 591us/step - loss: 1.7582 - acc: 0.3855 - val_loss: 1.8337 - val_acc: 0.3766\n",
      "Epoch 3/25\n",
      "50000/50000 [==============================] - 28s 550us/step - loss: 1.6281 - acc: 0.4291 - val_loss: 1.6921 - val_acc: 0.4086\n",
      "Epoch 4/25\n",
      "50000/50000 [==============================] - 27s 530us/step - loss: 1.5555 - acc: 0.4529 - val_loss: 1.6534 - val_acc: 0.4158\n",
      "Epoch 5/25\n",
      "50000/50000 [==============================] - 26s 520us/step - loss: 1.5013 - acc: 0.4716 - val_loss: 1.6129 - val_acc: 0.4322\n",
      "Epoch 6/25\n",
      "50000/50000 [==============================] - 23s 464us/step - loss: 1.4558 - acc: 0.4880 - val_loss: 1.5888 - val_acc: 0.4449\n",
      "Epoch 7/25\n",
      "50000/50000 [==============================] - 21s 426us/step - loss: 1.4179 - acc: 0.5030 - val_loss: 1.5648 - val_acc: 0.4502\n",
      "Epoch 8/25\n",
      "50000/50000 [==============================] - 24s 477us/step - loss: 1.3848 - acc: 0.5147 - val_loss: 1.5542 - val_acc: 0.4529\n",
      "Epoch 9/25\n",
      "50000/50000 [==============================] - 24s 475us/step - loss: 1.3570 - acc: 0.5267 - val_loss: 1.5300 - val_acc: 0.4681\n",
      "Epoch 10/25\n",
      "50000/50000 [==============================] - 22s 432us/step - loss: 1.3292 - acc: 0.5355 - val_loss: 1.5046 - val_acc: 0.4743\n",
      "Epoch 11/25\n",
      "50000/50000 [==============================] - 21s 412us/step - loss: 1.3031 - acc: 0.5453 - val_loss: 1.4998 - val_acc: 0.4748\n",
      "Epoch 12/25\n",
      "50000/50000 [==============================] - 22s 449us/step - loss: 1.2810 - acc: 0.5533 - val_loss: 1.4791 - val_acc: 0.4847\n",
      "Epoch 13/25\n",
      "50000/50000 [==============================] - 24s 474us/step - loss: 1.2576 - acc: 0.5625 - val_loss: 1.4837 - val_acc: 0.4840\n",
      "Epoch 14/25\n",
      "50000/50000 [==============================] - 24s 481us/step - loss: 1.2338 - acc: 0.5723 - val_loss: 1.4849 - val_acc: 0.4840\n",
      "Epoch 15/25\n",
      "50000/50000 [==============================] - 23s 467us/step - loss: 1.2149 - acc: 0.5789 - val_loss: 1.4629 - val_acc: 0.4907\n",
      "Epoch 16/25\n",
      "50000/50000 [==============================] - 23s 458us/step - loss: 1.1943 - acc: 0.5856 - val_loss: 1.4637 - val_acc: 0.4874\n",
      "Epoch 17/25\n",
      "50000/50000 [==============================] - 24s 477us/step - loss: 1.1757 - acc: 0.5925 - val_loss: 1.4587 - val_acc: 0.4896\n",
      "Epoch 18/25\n",
      "50000/50000 [==============================] - 24s 481us/step - loss: 1.1548 - acc: 0.6005 - val_loss: 1.4594 - val_acc: 0.4886\n",
      "Epoch 19/25\n",
      "50000/50000 [==============================] - 21s 412us/step - loss: 1.1373 - acc: 0.6083 - val_loss: 1.4545 - val_acc: 0.4937\n",
      "Epoch 20/25\n",
      "50000/50000 [==============================] - 20s 404us/step - loss: 1.1184 - acc: 0.6143 - val_loss: 1.4575 - val_acc: 0.4927\n",
      "Epoch 21/25\n",
      "50000/50000 [==============================] - 21s 430us/step - loss: 1.1013 - acc: 0.6227 - val_loss: 1.4496 - val_acc: 0.4948\n",
      "Epoch 22/25\n",
      "50000/50000 [==============================] - 24s 472us/step - loss: 1.0840 - acc: 0.6281 - val_loss: 1.4488 - val_acc: 0.4971\n",
      "Epoch 23/25\n",
      "50000/50000 [==============================] - 24s 482us/step - loss: 1.0644 - acc: 0.6366 - val_loss: 1.4493 - val_acc: 0.4957\n",
      "Epoch 24/25\n",
      "50000/50000 [==============================] - 21s 412us/step - loss: 1.0488 - acc: 0.6421 - val_loss: 1.4447 - val_acc: 0.4989\n",
      "Epoch 25/25\n",
      "50000/50000 [==============================] - 20s 409us/step - loss: 1.0326 - acc: 0.6486 - val_loss: 1.4486 - val_acc: 0.4956\n"
     ]
    }
   ],
   "source": [
    "model = build_mlp(input_shape=x_train.shape[1:])\n",
    "model.summary()\n",
    "optimizer = keras.optimizers.SGD(lr=LEARNING_RATE, nesterov=True, momentum=MOMENTUM)\n",
    "model.compile(loss=\"categorical_crossentropy\", metrics=[\"accuracy\"], optimizer=optimizer)\n",
    "\n",
    "\"\"\"Code Here\n",
    "將 callbacks 放入模型訓練流程中\n",
    "\"\"\"\n",
    "model.fit(x_train, y_train, \n",
    "          epochs=EPOCHS, \n",
    "          batch_size=BATCH_SIZE, \n",
    "          validation_data=(x_test, y_test), \n",
    "          shuffle=True,\n",
    "          callbacks=[rec_tptn])\n",
    "\n",
    "# Collect results\n",
    "train_loss = model.history.history[\"loss\"]\n",
    "valid_loss = model.history.history[\"val_loss\"]\n",
    "train_acc = model.history.history[\"acc\"]\n",
    "valid_acc = model.history.history[\"val_acc\"]\n",
    "\n",
    "\"\"\"Code Here\n",
    "將 tp/tn 從訓練完的模型中取出\n",
    "\"\"\"\n",
    "\n",
    "valid_tp = model.history.history['valid_tp']\n",
    "valid_tn = model.history.history['valid_tn']"
   ]
  },
  {
   "cell_type": "code",
   "execution_count": 14,
   "metadata": {},
   "outputs": [
    {
     "data": {
      "image/png": "[encoded data removed]",
      "text/plain": [
       "<Figure size 432x288 with 1 Axes>"
      ]
     },
     "metadata": {
      "needs_background": "light"
     },
     "output_type": "display_data"
    },
    {
     "data": {
      "image/png": "[encoded data removed]",
      "text/plain": [
       "<Figure size 432x288 with 1 Axes>"
      ]
     },
     "metadata": {
      "needs_background": "light"
     },
     "output_type": "display_data"
    },
    {
     "data": {
      "image/png": "[encoded data removed]",
      "text/plain": [
       "<Figure size 432x288 with 1 Axes>"
      ]
     },
     "metadata": {
      "needs_background": "light"
     },
     "output_type": "display_data"
    }
   ],
   "source": [
    "import matplotlib.pyplot as plt\n",
    "%matplotlib inline\n",
    "\n",
    "plt.plot(range(len(train_loss)), train_loss, label=\"train loss\")\n",
    "plt.plot(range(len(valid_loss)), valid_loss, label=\"valid loss\")\n",
    "plt.legend()\n",
    "plt.title(\"Loss\")\n",
    "plt.show()\n",
    "\n",
    "\n",
    "plt.plot(range(len(train_acc)), train_acc, label=\"train accuracy\")\n",
    "plt.plot(range(len(valid_acc)), valid_acc, label=\"valid accuracy\")\n",
    "plt.legend()\n",
    "plt.title(\"Accuracy\")\n",
    "plt.show()\n",
    "\n",
    "plt.plot(range(len(valid_tp)), valid_tp, label=\"valid tp\", color=\"navy\")\n",
    "plt.plot(range(len(valid_tn)), valid_tn, label=\"valid tn\", color=\"red\")\n",
    "plt.legend()\n",
    "plt.title(\"True positives and True Negatives\")\n",
    "plt.show()\n"
   ]
  },
  {
   "cell_type": "code",
   "execution_count": null,
   "metadata": {},
   "outputs": [],
   "source": []
  }
 ],
 "metadata": {
  "kernelspec": {
   "display_name": "Python 3",
   "language": "python",
   "name": "python3"
  },
  "language_info": {
   "codemirror_mode": {
    "name": "ipython",
    "version": 3
   },
   "file_extension": ".py",
   "mimetype": "text/x-python",
   "name": "python",
   "nbconvert_exporter": "python",
   "pygments_lexer": "ipython3",
   "version": "3.7.3"
  }
 },
 "nbformat": 4,
 "nbformat_minor": 2
}
